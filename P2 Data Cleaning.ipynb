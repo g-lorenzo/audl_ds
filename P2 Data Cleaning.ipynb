{
 "cells": [
  {
   "cell_type": "markdown",
   "metadata": {},
   "source": [
    "---------------------\n",
    "# **P2 - Player Classification** 🥏\n",
    "---------------------"
   ]
  },
  {
   "cell_type": "code",
   "execution_count": 1,
   "metadata": {},
   "outputs": [],
   "source": [
    "# IMPORTS\n",
    "import pandas as pd\n",
    "import seaborn as sns"
   ]
  },
  {
   "cell_type": "code",
   "execution_count": 2,
   "metadata": {},
   "outputs": [],
   "source": [
    "# Color Palette\n",
    "palette = {\n",
    "    'ltBlu': '#8ecae6',\n",
    "    'mdBlu': '#219ebc',\n",
    "    'dkBlu': '#023047',\n",
    "    'gold': '#ffb703',\n",
    "    'orange': '#fb8500'\n",
    "}"
   ]
  },
  {
   "cell_type": "code",
   "execution_count": 3,
   "metadata": {},
   "outputs": [],
   "source": [
    "# Get raw data\n",
    "df = pd.read_csv(r'.\\DATA\\raw\\20220227_player_all_time.csv')"
   ]
  },
  {
   "cell_type": "code",
   "execution_count": 4,
   "metadata": {},
   "outputs": [
    {
     "name": "stdout",
     "output_type": "stream",
     "text": [
      "<class 'pandas.core.frame.DataFrame'>\n",
      "RangeIndex: 2558 entries, 0 to 2557\n",
      "Data columns (total 26 columns):\n",
      " #   Column  Non-Null Count  Dtype \n",
      "---  ------  --------------  ----- \n",
      " 0   Player  2558 non-null   object\n",
      " 1   G       2558 non-null   int64 \n",
      " 2   PP      2558 non-null   int64 \n",
      " 3   POS     2558 non-null   int64 \n",
      " 4   SCR     2558 non-null   int64 \n",
      " 5   AST     2558 non-null   int64 \n",
      " 6   GLS     2558 non-null   int64 \n",
      " 7   BLK     2558 non-null   int64 \n",
      " 8   +/- ▼   2558 non-null   int64 \n",
      " 9   Cmp     2558 non-null   int64 \n",
      " 10  Cmp%    2558 non-null   object\n",
      " 11  Y       2558 non-null   int64 \n",
      " 12  TY      2558 non-null   int64 \n",
      " 13  RY      2558 non-null   int64 \n",
      " 14  OEFF    2558 non-null   object\n",
      " 15  HA      2558 non-null   int64 \n",
      " 16  T       2558 non-null   int64 \n",
      " 17  S       2558 non-null   int64 \n",
      " 18  D       2558 non-null   int64 \n",
      " 19  C       2558 non-null   int64 \n",
      " 20  Hck     2558 non-null   int64 \n",
      " 21  Hck%    2558 non-null   object\n",
      " 22  Pul     2558 non-null   int64 \n",
      " 23  OPP     2558 non-null   int64 \n",
      " 24  DPP     2558 non-null   int64 \n",
      " 25  MP      2558 non-null   int64 \n",
      "dtypes: int64(22), object(4)\n",
      "memory usage: 519.7+ KB\n"
     ]
    }
   ],
   "source": [
    "df.info()"
   ]
  },
  {
   "cell_type": "markdown",
   "metadata": {},
   "source": [
    "# GAME PLAN\n",
    "**DATA CLEANING**\n",
    "1. clean up stat column names\n",
    "1. Verify dtypes are correct (i.e. OEFF = object)\n",
    "1. Assess null information\n",
    "1. Assign positions to players\n",
    "1. Any Data Engineering?\n",
    "\n",
    "**EDA**\n",
    "1. Single variable EDA, focus on ___?\n",
    "1. Multi-variable EDA, focus on differences in position\n",
    "1. Correlation heatmap\n",
    "1. Create df where relevant values are by points played\n",
    "    a. If any highly collinear after, remove\n",
    "1. Remove one of any pairs of highly collinear variables\n",
    "1. Create DF for just players w/ position"
   ]
  },
  {
   "cell_type": "code",
   "execution_count": 5,
   "metadata": {},
   "outputs": [],
   "source": [
    "# Clean up colum names\n",
    "col_names = {'Player': 'player',\n",
    "             'G': 'games',\n",
    "             'PP': 'points_played',\n",
    "             'POS': 'off_possessions',\n",
    "             'SCR': 'scores', # assists + goals\n",
    "             'AST': 'assists',\n",
    "             'GLS': 'goals',\n",
    "             'BLK': 'blocks',\n",
    "             '+/- ▼': 'plus_minus', # +1 per goal/assist/block, -1 per throwaway and drop\n",
    "             'Cmp': 'completions',\n",
    "             'Cmp%': 'completion_pct', # completion pct, must have >= 100 throw attempts\n",
    "             'Y': 'total_yards',\n",
    "             'TY': 'throwing_yards',\n",
    "             'RY': 'receiving_yards',\n",
    "             'OEFF': 'off_efficiency', # team scores while on field / off. possessions\n",
    "             'HA': 'hockey_assists',\n",
    "             'T': 'throwaways',\n",
    "             'S': 'stalls',\n",
    "             'D': 'drops',\n",
    "             'C': 'callahans',\n",
    "             'Hck': 'hucks', # > 40yd throws downfield\n",
    "             'Hck%': 'huck_pct', # completion pct, must have 10+ huck attempts\n",
    "             'Pul': 'pulls',\n",
    "             'OPP': 'off_points_played',\n",
    "             'DPP': 'def_points_played',\n",
    "             'MP': 'minutes_played'\n",
    "}\n",
    "\n",
    "df.columns = [col_names[i] for i in df.columns]"
   ]
  },
  {
   "cell_type": "code",
   "execution_count": 6,
   "metadata": {},
   "outputs": [
    {
     "name": "stdout",
     "output_type": "stream",
     "text": [
      "<class 'pandas.core.frame.DataFrame'>\n",
      "RangeIndex: 2558 entries, 0 to 2557\n",
      "Data columns (total 26 columns):\n",
      " #   Column             Non-Null Count  Dtype \n",
      "---  ------             --------------  ----- \n",
      " 0   player             2558 non-null   object\n",
      " 1   games              2558 non-null   int64 \n",
      " 2   points_played      2558 non-null   int64 \n",
      " 3   off_possessions    2558 non-null   int64 \n",
      " 4   scores             2558 non-null   int64 \n",
      " 5   assists            2558 non-null   int64 \n",
      " 6   goals              2558 non-null   int64 \n",
      " 7   blocks             2558 non-null   int64 \n",
      " 8   plus_minus         2558 non-null   int64 \n",
      " 9   completions        2558 non-null   int64 \n",
      " 10  completion_pct     2558 non-null   object\n",
      " 11  total_yards        2558 non-null   int64 \n",
      " 12  throwing_yards     2558 non-null   int64 \n",
      " 13  receiving_yards    2558 non-null   int64 \n",
      " 14  off_efficiency     2558 non-null   object\n",
      " 15  hockey_assists     2558 non-null   int64 \n",
      " 16  throwaways         2558 non-null   int64 \n",
      " 17  stalls             2558 non-null   int64 \n",
      " 18  drops              2558 non-null   int64 \n",
      " 19  callahans          2558 non-null   int64 \n",
      " 20  hucks              2558 non-null   int64 \n",
      " 21  huck_pct           2558 non-null   object\n",
      " 22  pulls              2558 non-null   int64 \n",
      " 23  off_points_played  2558 non-null   int64 \n",
      " 24  def_points_played  2558 non-null   int64 \n",
      " 25  minutes_played     2558 non-null   int64 \n",
      "dtypes: int64(22), object(4)\n",
      "memory usage: 519.7+ KB\n"
     ]
    }
   ],
   "source": [
    "# Sample\n",
    "df.info()"
   ]
  },
  {
   "cell_type": "code",
   "execution_count": 7,
   "metadata": {},
   "outputs": [
    {
     "data": {
      "text/plain": [
       "2144"
      ]
     },
     "execution_count": 7,
     "metadata": {},
     "output_type": "execute_result"
    }
   ],
   "source": [
    "len(df[df['hucks'] == 0])"
   ]
  },
  {
   "cell_type": "code",
   "execution_count": 8,
   "metadata": {},
   "outputs": [],
   "source": [
    "# Transform Object Columns into int/float\n",
    "df[['completion_pct', 'off_efficiency', 'huck_pct']]\n",
    "df.replace(inplace=True, to_replace='--', value=None)"
   ]
  },
  {
   "cell_type": "code",
   "execution_count": 9,
   "metadata": {},
   "outputs": [],
   "source": [
    "num_cols = ['completion_pct', 'off_efficiency', 'huck_pct']\n",
    "for i in num_cols:\n",
    "    df[i] = df[i].astype('float')"
   ]
  },
  {
   "cell_type": "markdown",
   "metadata": {},
   "source": [
    "df.info give the following information: \n",
    "- completion_pct     1317 non-null   object\n",
    "- off_efficiency     1574 non-null   object\n",
    "- huck_pct           107 non-null    object\n",
    "\n",
    "`completion_pct` is **48.5%** null </br>\n",
    "`off_efficiency` is **38.5%** null </br>\n",
    "`huck_pct` is **95.8%** null </br>\n",
    "\n",
    "Because of the high presence of missing values in `huck_pct`, this column is dropped from the finall processed dataset. Similarly, `hucks` is also dropped because the large majority of values is 0. For `completion_pct` and `off_efficiency`, these will be left in along with null values. Many clustering algorithms "
   ]
  },
  {
   "cell_type": "code",
   "execution_count": 10,
   "metadata": {},
   "outputs": [],
   "source": [
    "df.drop(labels=['huck_pct', 'hucks'], axis=1, inplace=True)"
   ]
  },
  {
   "cell_type": "code",
   "execution_count": 11,
   "metadata": {},
   "outputs": [
    {
     "data": {
      "text/html": [
       "<div>\n",
       "<style scoped>\n",
       "    .dataframe tbody tr th:only-of-type {\n",
       "        vertical-align: middle;\n",
       "    }\n",
       "\n",
       "    .dataframe tbody tr th {\n",
       "        vertical-align: top;\n",
       "    }\n",
       "\n",
       "    .dataframe thead th {\n",
       "        text-align: right;\n",
       "    }\n",
       "</style>\n",
       "<table border=\"1\" class=\"dataframe\">\n",
       "  <thead>\n",
       "    <tr style=\"text-align: right;\">\n",
       "      <th></th>\n",
       "      <th>Unnamed: 0</th>\n",
       "      <th>player_link</th>\n",
       "      <th>position</th>\n",
       "    </tr>\n",
       "  </thead>\n",
       "  <tbody>\n",
       "    <tr>\n",
       "      <th>2312</th>\n",
       "      <td>Scott Hampton</td>\n",
       "      <td>https://theaudl.com/league/players/shampton</td>\n",
       "      <td>NaN</td>\n",
       "    </tr>\n",
       "    <tr>\n",
       "      <th>2548</th>\n",
       "      <td>Trevor Knechtel</td>\n",
       "      <td>https://theaudl.com/league/players/tknechtel</td>\n",
       "      <td>NaN</td>\n",
       "    </tr>\n",
       "    <tr>\n",
       "      <th>985</th>\n",
       "      <td>Grant Franke</td>\n",
       "      <td>https://theaudl.com/league/players/gfranke</td>\n",
       "      <td>NaN</td>\n",
       "    </tr>\n",
       "    <tr>\n",
       "      <th>1584</th>\n",
       "      <td>Kyle Dew</td>\n",
       "      <td>https://theaudl.com/league/players/kdew</td>\n",
       "      <td>Hybrid</td>\n",
       "    </tr>\n",
       "    <tr>\n",
       "      <th>1179</th>\n",
       "      <td>Jarnail Bajwa</td>\n",
       "      <td>https://theaudl.com/league/players/jbajwa</td>\n",
       "      <td>NaN</td>\n",
       "    </tr>\n",
       "  </tbody>\n",
       "</table>\n",
       "</div>"
      ],
      "text/plain": [
       "           Unnamed: 0                                   player_link position\n",
       "2312    Scott Hampton   https://theaudl.com/league/players/shampton      NaN\n",
       "2548  Trevor Knechtel  https://theaudl.com/league/players/tknechtel      NaN\n",
       "985      Grant Franke    https://theaudl.com/league/players/gfranke      NaN\n",
       "1584         Kyle Dew       https://theaudl.com/league/players/kdew   Hybrid\n",
       "1179    Jarnail Bajwa     https://theaudl.com/league/players/jbajwa      NaN"
      ]
     },
     "execution_count": 11,
     "metadata": {},
     "output_type": "execute_result"
    }
   ],
   "source": [
    "# Assign Positions to Players\n",
    "player_pos = pd.read_csv(\"DATA/raw/20220304_player_positions.csv\").drop(labels='Unnamed: 0.1', axis=1)\n",
    "player_pos.sample(5)"
   ]
  },
  {
   "cell_type": "code",
   "execution_count": 12,
   "metadata": {},
   "outputs": [],
   "source": [
    "player_pos = player_pos.rename({'Unnamed: 0': 'player_name'}, axis=1)"
   ]
  },
  {
   "cell_type": "code",
   "execution_count": 13,
   "metadata": {},
   "outputs": [],
   "source": [
    "player_pos.set_index('player_name', inplace=True)\n",
    "merged = df.join(other=player_pos, on='player', how='left')"
   ]
  },
  {
   "cell_type": "code",
   "execution_count": 18,
   "metadata": {},
   "outputs": [],
   "source": [
    "# Drop link col and save\n",
    "# merged.drop(labels='player_link', axis=1, inplace=True)\n",
    "merged[~pd.isna(merged['position'])].sample(5)\n",
    "\n",
    "# SAVE FILE\n",
    "# merged.to_csv(\".\\\\DATA\\\\postproc\\\\players.csv\", index=False)"
   ]
  }
 ],
 "metadata": {
  "interpreter": {
   "hash": "7109ba1ce369bac11fc85c3770c2ea4cb9c811a96f990f3844434e0d23f9ebb4"
  },
  "kernelspec": {
   "display_name": "Python 3.9.4 ('.venv3.9.4': venv)",
   "language": "python",
   "name": "python3"
  },
  "language_info": {
   "codemirror_mode": {
    "name": "ipython",
    "version": 3
   },
   "file_extension": ".py",
   "mimetype": "text/x-python",
   "name": "python",
   "nbconvert_exporter": "python",
   "pygments_lexer": "ipython3",
   "version": "3.9.4"
  },
  "orig_nbformat": 4
 },
 "nbformat": 4,
 "nbformat_minor": 2
}
