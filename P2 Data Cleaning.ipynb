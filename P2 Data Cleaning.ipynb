{
 "cells": [
  {
   "cell_type": "code",
   "execution_count": 4,
   "metadata": {},
   "outputs": [],
   "source": [
    "import pandas as pd"
   ]
  },
  {
   "cell_type": "code",
   "execution_count": 7,
   "metadata": {},
   "outputs": [],
   "source": [
    "df = pd.read_csv(r'.\\DATA\\raw\\20220227_player_all_time.csv')"
   ]
  },
  {
   "cell_type": "code",
   "execution_count": 10,
   "metadata": {},
   "outputs": [
    {
     "data": {
      "text/plain": [
       "0       50.46\n",
       "1       50.51\n",
       "2       50.55\n",
       "3       50.35\n",
       "4       49.96\n",
       "        ...  \n",
       "2553    32.05\n",
       "2554    33.43\n",
       "2555    29.66\n",
       "2556    36.85\n",
       "2557     24.2\n",
       "Name: OEFF, Length: 2558, dtype: object"
      ]
     },
     "execution_count": 10,
     "metadata": {},
     "output_type": "execute_result"
    }
   ],
   "source": [
    "df['OEFF']"
   ]
  },
  {
   "cell_type": "code",
   "execution_count": 9,
   "metadata": {},
   "outputs": [
    {
     "name": "stdout",
     "output_type": "stream",
     "text": [
      "<class 'pandas.core.frame.DataFrame'>\n",
      "RangeIndex: 2558 entries, 0 to 2557\n",
      "Data columns (total 26 columns):\n",
      " #   Column  Non-Null Count  Dtype \n",
      "---  ------  --------------  ----- \n",
      " 0   Player  2558 non-null   object\n",
      " 1   G       2558 non-null   int64 \n",
      " 2   PP      2558 non-null   int64 \n",
      " 3   POS     2558 non-null   int64 \n",
      " 4   SCR     2558 non-null   int64 \n",
      " 5   AST     2558 non-null   int64 \n",
      " 6   GLS     2558 non-null   int64 \n",
      " 7   BLK     2558 non-null   int64 \n",
      " 8   +/- ▼   2558 non-null   int64 \n",
      " 9   Cmp     2558 non-null   int64 \n",
      " 10  Cmp%    2558 non-null   object\n",
      " 11  Y       2558 non-null   int64 \n",
      " 12  TY      2558 non-null   int64 \n",
      " 13  RY      2558 non-null   int64 \n",
      " 14  OEFF    2558 non-null   object\n",
      " 15  HA      2558 non-null   int64 \n",
      " 16  T       2558 non-null   int64 \n",
      " 17  S       2558 non-null   int64 \n",
      " 18  D       2558 non-null   int64 \n",
      " 19  C       2558 non-null   int64 \n",
      " 20  Hck     2558 non-null   int64 \n",
      " 21  Hck%    2558 non-null   object\n",
      " 22  Pul     2558 non-null   int64 \n",
      " 23  OPP     2558 non-null   int64 \n",
      " 24  DPP     2558 non-null   int64 \n",
      " 25  MP      2558 non-null   int64 \n",
      "dtypes: int64(22), object(4)\n",
      "memory usage: 519.7+ KB\n"
     ]
    }
   ],
   "source": [
    "df.info()"
   ]
  },
  {
   "cell_type": "markdown",
   "metadata": {},
   "source": [
    "# GAME PLAN\n",
    "**DATA CLEANING**\n",
    "1. clean up stat column names\n",
    "1. Verify dtypes are correct (i.e. OEFF = object)\n",
    "1. Assign positions to players\n",
    "1. Any Data Engineering?\n",
    "\n",
    "**EDA**\n",
    "1. Single variable EDA, focus on ___?\n",
    "1. Multi-variable EDA, focus on differences in position\n",
    "1. Correlation heatmap\n",
    "1. Create df where relevant values are by points played\n",
    "    a. If any highly collinear after, remove\n",
    "1. Remove one of any pairs of highly collinear variables\n",
    "1. Create DF for just players w/ position"
   ]
  }
 ],
 "metadata": {
  "interpreter": {
   "hash": "7109ba1ce369bac11fc85c3770c2ea4cb9c811a96f990f3844434e0d23f9ebb4"
  },
  "kernelspec": {
   "display_name": "Python 3.9.4 ('.venv3.9.4': venv)",
   "language": "python",
   "name": "python3"
  },
  "language_info": {
   "codemirror_mode": {
    "name": "ipython",
    "version": 3
   },
   "file_extension": ".py",
   "mimetype": "text/x-python",
   "name": "python",
   "nbconvert_exporter": "python",
   "pygments_lexer": "ipython3",
   "version": "3.9.4"
  },
  "orig_nbformat": 4
 },
 "nbformat": 4,
 "nbformat_minor": 2
}
